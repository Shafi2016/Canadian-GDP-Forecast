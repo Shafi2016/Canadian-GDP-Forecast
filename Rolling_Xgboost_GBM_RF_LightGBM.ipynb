{
  "nbformat": 4,
  "nbformat_minor": 0,
  "metadata": {
    "colab": {
      "name": "Rolling_Xgboost_GBM_RF_LightGBM.ipynb",
      "provenance": [],
      "collapsed_sections": [],
      "machine_shape": "hm"
    },
    "kernelspec": {
      "display_name": "Python 3",
      "name": "python3"
    },
    "accelerator": "GPU"
  },
  "cells": [
    {
      "cell_type": "code",
      "metadata": {
        "colab": {
          "base_uri": "https://localhost:8080/"
        },
        "id": "cy2fCwg6_yay",
        "outputId": "a2d3bc16-f420-4d29-f5ce-2e7612f301d2"
      },
      "source": [
        "!pip install -U scikit-learn"
      ],
      "execution_count": null,
      "outputs": [
        {
          "output_type": "stream",
          "text": [
            "Collecting scikit-learn\n",
            "\u001b[?25l  Downloading https://files.pythonhosted.org/packages/e2/4c/6111b9a325f29527d7f262e2ee8c730d354b47a728d955e186dacad57a0d/scikit_learn-0.24.1-cp36-cp36m-manylinux2010_x86_64.whl (22.2MB)\n",
            "\u001b[K     |████████████████████████████████| 22.2MB 81.1MB/s \n",
            "\u001b[?25hRequirement already satisfied, skipping upgrade: numpy>=1.13.3 in /usr/local/lib/python3.6/dist-packages (from scikit-learn) (1.19.5)\n",
            "Requirement already satisfied, skipping upgrade: scipy>=0.19.1 in /usr/local/lib/python3.6/dist-packages (from scikit-learn) (1.4.1)\n",
            "Collecting threadpoolctl>=2.0.0\n",
            "  Downloading https://files.pythonhosted.org/packages/f7/12/ec3f2e203afa394a149911729357aa48affc59c20e2c1c8297a60f33f133/threadpoolctl-2.1.0-py3-none-any.whl\n",
            "Requirement already satisfied, skipping upgrade: joblib>=0.11 in /usr/local/lib/python3.6/dist-packages (from scikit-learn) (1.0.0)\n",
            "Installing collected packages: threadpoolctl, scikit-learn\n",
            "  Found existing installation: scikit-learn 0.22.2.post1\n",
            "    Uninstalling scikit-learn-0.22.2.post1:\n",
            "      Successfully uninstalled scikit-learn-0.22.2.post1\n",
            "Successfully installed scikit-learn-0.24.1 threadpoolctl-2.1.0\n"
          ],
          "name": "stdout"
        }
      ]
    },
    {
      "cell_type": "code",
      "metadata": {
        "id": "wtyCT8EZAA2X",
        "colab": {
          "base_uri": "https://localhost:8080/"
        },
        "outputId": "69fe287c-1518-4f75-9d47-8efc0065d41f"
      },
      "source": [
        "import pandas as pd\r\n",
        "import numpy as np\r\n",
        "from matplotlib import pyplot as plt\r\n",
        "%matplotlib inline\r\n",
        "import xgboost as xgb\r\n",
        "import statsmodels.api as sm\r\n",
        "from sklearn.model_selection import GridSearchCV\r\n",
        "from sklearn.metrics import mean_squared_error\r\n",
        "from sklearn.model_selection import TimeSeriesSplit\r\n",
        "import pandas as pd\r\n",
        "import matplotlib.pyplot as plt\r\n",
        "import seaborn as sns\r\n",
        "import numpy as np\r\n",
        "from lightgbm import LGBMRegressor\r\n",
        "from sklearn.model_selection import TimeSeriesSplit\r\n",
        "from sklearn.linear_model import LinearRegression\r\n",
        "from sklearn.ensemble import RandomForestRegressor\r\n",
        "from sklearn.tree import DecisionTreeRegressor\r\n",
        "from sklearn.ensemble import AdaBoostRegressor\r\n",
        "from sklearn.ensemble import GradientBoostingRegressor\r\n",
        "from sklearn.model_selection import cross_val_score\r\n",
        "from sklearn.metrics import r2_score\r\n",
        "from sklearn.metrics import mean_squared_error as MSE\r\n",
        "from sklearn.metrics import mean_absolute_error as MAE\r\n",
        "from sklearn.metrics import make_scorer\r\n",
        "from sklearn.model_selection import GridSearchCV\r\n",
        "from sklearn.model_selection import RandomizedSearchCV\r\n",
        "\r\n",
        "import warnings"
      ],
      "execution_count": null,
      "outputs": [
        {
          "output_type": "stream",
          "text": [
            "/usr/local/lib/python3.6/dist-packages/statsmodels/tools/_testing.py:19: FutureWarning: pandas.util.testing is deprecated. Use the functions in the public API at pandas.testing instead.\n",
            "  import pandas.util.testing as tm\n"
          ],
          "name": "stderr"
        }
      ]
    },
    {
      "cell_type": "code",
      "metadata": {
        "id": "Vt3QiBjHRNt6"
      },
      "source": [
        "df = pd.read_csv('/content/Employment_only.csv', index_col=[0], parse_dates=[0])\n",
        "\n",
        "df.head(2)\n"
      ],
      "execution_count": null,
      "outputs": []
    },
    {
      "cell_type": "code",
      "metadata": {
        "id": "zPEokcuKpj_p"
      },
      "source": [
        "df.shape"
      ],
      "execution_count": null,
      "outputs": []
    },
    {
      "cell_type": "code",
      "metadata": {
        "id": "S2vhnMVLUnFa"
      },
      "source": [
        "\r\n",
        "df2 = df.copy()\r\n",
        "num_lags = 10 # number of lags and window lenghts for mean aggregation\r\n",
        "#delay = 1 # predict target one step ahead\r\n",
        "for column in df2:\r\n",
        "    for lag in range(1,num_lags+1):\r\n",
        "        df2[column + '_lag' + str(lag)] = df2[column].shift(lag*+1)\r\n",
        "        if column != 'date':\r\n",
        "            df2[column + '_avg_window_length' + str(lag+1)] = df2[column].shift(1).rolling(window=lag+1,center=False).mean()#.shift(1)\r\n",
        "\r\n",
        "df2.dropna(inplace=True) \r\n",
        "\r\n",
        "mask = (df2.columns.str.contains('GDP') | df2.columns.str.contains('lag') | df2.columns.str.contains('window'))\r\n",
        "df_processed = df2[df2.columns[mask]]\r\n",
        "\r\n",
        "# the columns in the processed dataframe\r\n",
        "df_processed.columns"
      ],
      "execution_count": null,
      "outputs": []
    },
    {
      "cell_type": "code",
      "metadata": {
        "id": "0SzGCXS7JT4P"
      },
      "source": [
        "# df_processed['date'] = df_processed.index\r\n",
        "# df_processed['year'] = df_processed['date'].dt.year\r\n",
        "# df_processed['quarter'] = df_processed['date'].dt.quarter\r\n",
        "# df_processed['month'] = df_processed['date'].dt.month\r\n",
        "# df_processed.head(3)"
      ],
      "execution_count": null,
      "outputs": []
    },
    {
      "cell_type": "code",
      "metadata": {
        "id": "YlmZHm309HJW"
      },
      "source": [
        "# df_processed.to_csv('data.csv')"
      ],
      "execution_count": null,
      "outputs": []
    },
    {
      "cell_type": "code",
      "metadata": {
        "id": "-dHWNQzdwFIV"
      },
      "source": [
        "X = df_processed.loc[: , 'GDP_lag1' : 'EMP_CAN_lag5_roll_10'].values\r\n",
        "y = df_processed.loc[: ,'GDP'].values"
      ],
      "execution_count": null,
      "outputs": []
    },
    {
      "cell_type": "code",
      "metadata": {
        "colab": {
          "base_uri": "https://localhost:8080/"
        },
        "id": "64MIb95DBHaB",
        "outputId": "48c3d691-8c5e-42ef-8e08-49493916b3d0"
      },
      "source": [
        "df_processed.shape"
      ],
      "execution_count": null,
      "outputs": [
        {
          "output_type": "execute_result",
          "data": {
            "text/plain": [
              "(474, 161)"
            ]
          },
          "metadata": {
            "tags": []
          },
          "execution_count": 142
        }
      ]
    },
    {
      "cell_type": "code",
      "metadata": {
        "id": "4j5_P2GbayqF"
      },
      "source": [
        "# ##  3 step ahead n_splits=10,max_train_size=147 ,test_size=3, gap=0)\r\n",
        "# TimeSeriesSplit(n_splits=10,max_train_size=166 ,test_size=1, gap=0)\r\n",
        "# tscv = TimeSeriesSplit(n_splits=10,max_train_size=116 ,test_size=6, gap=0)\r\n",
        "# TimeSeriesSplit(n_splits=10,max_train_size=167 ,test_size=6, gap=0)\r\n",
        "# tscv = TimeSeriesSplit(n_splits=10,max_train_size=147 ,test_size=6, gap=0)"
      ],
      "execution_count": null,
      "outputs": []
    },
    {
      "cell_type": "code",
      "metadata": {
        "colab": {
          "base_uri": "https://localhost:8080/"
        },
        "id": "906_-3Toy_fJ",
        "outputId": "0f2a54a6-49d0-4b33-b8d7-74c39674990a"
      },
      "source": [
        "from sklearn.model_selection import TimeSeriesSplit\r\n",
        "\r\n",
        "tscv = TimeSeriesSplit(n_splits= 5,max_train_size= 689,test_size= 6, gap=0)\r\n",
        "\r\n",
        "for train_index, test_index in tscv.split(X):\r\n",
        "    X_train, X_test = X[train_index], X[test_index]\r\n",
        "    y_train, y_test = y[train_index], y[test_index]\r\n",
        "    \r\n",
        "    print(\"Train Start: %d -> End %d\" % (train_index[0], train_index[-1]))\r\n",
        "    print(\"Test Start: %d -> End %d\" % (test_index[0], test_index[-1]))\r\n",
        "    #print(X_train.shape, y_train.shape)\r\n",
        "    #print(X_test.shape, y_test.shape)\r\n",
        "    print(\"#\" * 50)"
      ],
      "execution_count": null,
      "outputs": [
        {
          "output_type": "stream",
          "text": [
            "Train Start: 1 -> End 689\n",
            "Test Start: 690 -> End 695\n",
            "##################################################\n",
            "Train Start: 7 -> End 695\n",
            "Test Start: 696 -> End 701\n",
            "##################################################\n",
            "Train Start: 13 -> End 701\n",
            "Test Start: 702 -> End 707\n",
            "##################################################\n",
            "Train Start: 19 -> End 707\n",
            "Test Start: 708 -> End 713\n",
            "##################################################\n",
            "Train Start: 25 -> End 713\n",
            "Test Start: 714 -> End 719\n",
            "##################################################\n"
          ],
          "name": "stdout"
        }
      ]
    },
    {
      "cell_type": "code",
      "metadata": {
        "id": "dqr81KWCPszn"
      },
      "source": [
        "df.tail"
      ],
      "execution_count": null,
      "outputs": []
    },
    {
      "cell_type": "code",
      "metadata": {
        "id": "Z8_Ygs0FA3yv"
      },
      "source": [
        "test = df_processed.tail(10)\r\n",
        "X_test1 = test.loc[: , 'GDP_lag1' : 'EMP_CAN_lag5_roll_10'].values\r\n",
        "                \r\n",
        "y_test1 = test.loc[: ,'GDP'].values"
      ],
      "execution_count": null,
      "outputs": []
    },
    {
      "cell_type": "code",
      "metadata": {
        "id": "6lM5ZDH1GCqI"
      },
      "source": [
        "X_test1"
      ],
      "execution_count": null,
      "outputs": []
    },
    {
      "cell_type": "code",
      "metadata": {
        "id": "VSJFbQyFBP5k"
      },
      "source": [
        "y_test1"
      ],
      "execution_count": null,
      "outputs": []
    },
    {
      "cell_type": "code",
      "metadata": {
        "id": "GTF0cVFiz3M5"
      },
      "source": [
        "# lgbm = LGBMRegressor()  ## Final for the papers\r\n",
        "# lgbm = LGBMRegressor(boosting_type = 'gbdt',\r\n",
        "\r\n",
        "#                 random_state= 87,\r\n",
        "#                 num_leaves = 500,\r\n",
        "#                 max_bin = 1200,\r\n",
        "#                 min_data_in_leaf = 5,\r\n",
        "#                 num_boost_round = 1000,\r\n",
        "#                 n_estimators = 100,\r\n",
        "#                 num_iterations = 2000,\r\n",
        "#                 n_jobs = 1,\r\n",
        "                \r\n",
        "#                 )\r\n",
        "\r\n",
        "\r\n",
        "# # Create the parameters grid for adaboost:params_ada\r\n",
        "# params_lgbm = {'n_estimators':[5000, 10000],'learning_rate':[0.03,0.05,0.10,0.30], 'min_child_samples':[.06,0.08,1.0], 'subsample':[0.6,0.70,0.8,0.9,1.0],\\\r\n",
        "#                ' reg_alpha':[0 ,0.01,0.001,0.8],' reg_lambda':[0 ,0.01,0.001,0.8,0.9,1.0]}\r\n",
        "              \r\n",
        "# cv = [(slice(None), slice(None))]   \r\n",
        "# # Instantiate a 10-fold CV grid search object:grid_ada\r\n",
        "# grid_ada= GridSearchCV(estimator=lgbm,\r\n",
        "#                          param_grid= params_lgbm,    \r\n",
        "#                          cv=tscv,\r\n",
        "#                          scoring=\"neg_mean_squared_error\",\r\n",
        "#                          verbose=True,\r\n",
        "#                          n_jobs=-1)\r\n",
        "# # Fit the combined data to grid_ada \r\n",
        "# grid_ada.fit(X_train, y_train,eval_set=[(X_test1, y_test1)],\r\n",
        "#         eval_metric='rmse',\r\n",
        "#         early_stopping_rounds= 5);\r\n",
        "# # Get the best parameters of the grid search\r\n",
        "# grid_ada.best_params_"
      ],
      "execution_count": null,
      "outputs": []
    },
    {
      "cell_type": "code",
      "metadata": {
        "colab": {
          "base_uri": "https://localhost:8080/"
        },
        "id": "r3X830hl0V2d",
        "outputId": "18f292e0-4ff0-441a-f84f-b22296dc901d"
      },
      "source": [
        "grid_ada.best_params_"
      ],
      "execution_count": null,
      "outputs": [
        {
          "output_type": "execute_result",
          "data": {
            "text/plain": [
              "{' reg_alpha': 0,\n",
              " ' reg_lambda': 0,\n",
              " 'learning_rate': 0.05,\n",
              " 'min_child_samples': 0.06,\n",
              " 'n_estimators': 5000,\n",
              " 'subsample': 0.6}"
            ]
          },
          "metadata": {
            "tags": []
          },
          "execution_count": 243
        }
      ]
    },
    {
      "cell_type": "code",
      "metadata": {
        "id": "Vls2AMaANj44"
      },
      "source": [
        "# seed 22, for step 6,3,  522 (3 ,1step.) for emp data  Employment_only \r\n",
        "\r\n",
        "# 80 for 1 automlgt\r\n",
        "#80 CAN_USA1_918-2019.csv step 6 , 25 step3 STEP1 80\r\n",
        "#step-6  80, step-3, 678 CAN_USA_2004  and (878 step1 lag=5, it worked better)\r\n",
        "# step6 192 (191), step 1 ,3 317, 3, 1, 987, Can_US \r\n",
        "# CAN-1981-2019.csv step 1 80,22"
      ],
      "execution_count": null,
      "outputs": []
    },
    {
      "cell_type": "code",
      "metadata": {
        "id": "l81_yx17AHTc"
      },
      "source": [
        "from sklearn.model_selection import RandomizedSearchCV\r\n",
        "from scipy.stats import randint as sp_randint\r\n",
        "\r\n",
        "lgbm = LGBMRegressor()  ## Final for the papers\r\n",
        "lgbm = LGBMRegressor(\r\n",
        "                random_state= 890,\r\n",
        "\r\n",
        "               num_leaves = 500,\r\n",
        "            \r\n",
        "               max_bin = 1200,\r\n",
        "                min_data_in_leaf = 5,\r\n",
        "\r\n",
        "               num_boost_round = 1000,\r\n",
        "               \r\n",
        "               n_estimators = 10000,\r\n",
        "               num_iterations = 2000,\r\n",
        "               n_jobs = 1,\r\n",
        "\r\n",
        "               subsample = 0.8,\r\n",
        "               reg_alpha = 0, reg_lambda = 1)\r\n",
        "\r\n",
        "\r\n",
        "# Create the parameters grid for adaboost:params_ada\r\n",
        "params_lgbm = {'n_estimators':[200,500, 1000, 10000],'learning_rate':[0.03,0.05,0.30], 'min_child_samples':[0.01,.06,0.08], \r\n",
        "               'subsample':[0.40, 0.6,0.70,0.80,0.9],  \r\n",
        "              'boosting_type':['dart',' gbdt','goss'],\r\n",
        "               'num_leaves': sp_randint(6, 50), \r\n",
        "               'max_depth' : [5,6,8,10,15],\r\n",
        "               'min_child_weight': [1e-5, 1e-3, 1e-2, 1e-1, 1, 1e1, 1e2, 1e3, 1e4],\r\n",
        "               'reg_alpha':[0 ,0.01],\r\n",
        "               'reg_lambda':[0 ,0.01,0.1,1.0]}\r\n",
        "\r\n",
        "# Instantiate a 10-fold CV grid search object:grid_ada\r\n",
        "grid_ada_lgbm = RandomizedSearchCV(estimator=lgbm,\r\n",
        "                          param_distributions= params_lgbm,    \r\n",
        "                         cv=tscv,random_state = 787,         #80\r\n",
        "                         scoring=\"neg_mean_squared_error\",\r\n",
        "                         verbose=True,\r\n",
        "                         n_jobs=-1)\r\n",
        "# Fit the combined data to grid_ada \r\n",
        "grid_ada_lgbm.fit(X_train, y_train,eval_set=[(X_test1, y_test1)],\r\n",
        "        eval_metric='rmse',\r\n",
        "        early_stopping_rounds= 5);\r\n",
        "# Get the best parameters of the grid search\r\n",
        "grid_ada_lgbm.best_params_"
      ],
      "execution_count": null,
      "outputs": []
    },
    {
      "cell_type": "code",
      "metadata": {
        "colab": {
          "base_uri": "https://localhost:8080/"
        },
        "id": "0xtWfyBF5q17",
        "outputId": "7d7b816b-fe0a-4d55-83c7-aba2f05d28a3"
      },
      "source": [
        "from math import *\r\n",
        "pred = grid_ada_lgbm.predict(X_test1)\r\n",
        "rmse = sqrt(mean_squared_error(y_test1, pred))\r\n",
        "print(rmse)\r\n",
        "\r\n"
      ],
      "execution_count": null,
      "outputs": [
        {
          "output_type": "stream",
          "text": [
            "0.0037424928817105974\n"
          ],
          "name": "stdout"
        }
      ]
    },
    {
      "cell_type": "code",
      "metadata": {
        "id": "wEuSMt285qoS"
      },
      "source": [
        "pred_gdp = pd.DataFrame(pred, columns=['Predicted_gdp'])\r\n",
        "pred_gdp.to_csv('preGDP.csv',index=False)\r\n",
        "ActualGDP = df.tail(10).reset_index(drop=False)\r\n",
        "actualGDP = ActualGDP[['date','CPI']]\r\n",
        "pred_gdp = pd.DataFrame(pred, columns=['Predicted_gdp'])\r\n",
        "forecast = pd.concat([actualGDP, pred_gdp],ignore_index= False, sort=False)\r\n",
        "forecast.to_csv('forecas_step-6-ligtGBM.csv')"
      ],
      "execution_count": null,
      "outputs": []
    },
    {
      "cell_type": "code",
      "metadata": {
        "colab": {
          "base_uri": "https://localhost:8080/"
        },
        "id": "hsvl8TsG5qdV",
        "outputId": "41d1936e-fd25-49c9-e480-dccd366328d3"
      },
      "source": [
        "from sklearn import metrics\r\n",
        "def timeseries_evaluation_metrics_func(y_test, y_pred):\r\n",
        "    \r\n",
        "    def mean_absolute_percentage_error(y_test, y_pred): \r\n",
        "        y_test, y_pred = np.array(y_test), np.array(y_pred)\r\n",
        "        return np.mean(np.abs((y_test - y_pred) / y_test)) * 100\r\n",
        "    print('Evaluation metric results:-')\r\n",
        "    print(f'MSE is : {metrics.mean_squared_error(y_test, y_pred)}')\r\n",
        "    print(f'MAE is : {metrics.mean_absolute_error(y_test, y_pred)}')\r\n",
        "    print(f'RMSE is : {np.sqrt(metrics.mean_squared_error(y_test, y_pred))}')\r\n",
        "    print(f'MAPE is : {mean_absolute_percentage_error(y_test, y_pred)}')\r\n",
        "    print(f'R2 is : {metrics.r2_score(y_test, y_pred)}',end='\\n\\n')\r\n",
        "    \r\n",
        "timeseries_evaluation_metrics_func(y_test1,pred)  "
      ],
      "execution_count": null,
      "outputs": [
        {
          "output_type": "stream",
          "text": [
            "Evaluation metric results:-\n",
            "MSE is : 1.4006252969654492e-05\n",
            "MAE is : 0.0027224679271378466\n",
            "RMSE is : 0.0037424928817105974\n",
            "MAPE is : 117.74353566737292\n",
            "R2 is : 0.1859250565818409\n",
            "\n"
          ],
          "name": "stdout"
        }
      ]
    },
    {
      "cell_type": "code",
      "metadata": {
        "id": "zFWVZLFUMqH6"
      },
      "source": [
        "\r\n",
        "# Tuning the XGBoost model\r\n",
        "xgbtuned = xgb.XGBRegressor()"
      ],
      "execution_count": null,
      "outputs": []
    },
    {
      "cell_type": "markdown",
      "metadata": {
        "id": "XamG5NuXUdxm"
      },
      "source": [
        "# XGBoost"
      ]
    },
    {
      "cell_type": "code",
      "metadata": {
        "id": "mntxDzYwEQhB"
      },
      "source": [
        "# seed  22, for six , stepahead, 522 for 3 step, 311 for 1  Employment only\r\n",
        "# 79, step-1                                  Employment only\r\n",
        "# 80, CAN_USA2004 step6-3\r\n",
        "# 22, step6, 3 ,1 Cn_us2019.csv \r\n",
        "# step6-3 80, step1  79, Can_US  (9 step1 lag=5) it worked better\r\n",
        "\r\n",
        "\r\n",
        "# CAN1981-2019.csv step 1 80,"
      ],
      "execution_count": null,
      "outputs": []
    },
    {
      "cell_type": "code",
      "metadata": {
        "id": "G6fTZwlIO-1m"
      },
      "source": [
        "import numpy as np\r\n",
        "import pandas as pd\r\n",
        "from sklearn import preprocessing\r\n",
        "import xgboost as xgb\r\n",
        "from xgboost.sklearn import XGBRegressor\r\n",
        "import datetime\r\n",
        "from sklearn.model_selection import GridSearchCV\r\n"
      ],
      "execution_count": null,
      "outputs": []
    },
    {
      "cell_type": "code",
      "metadata": {
        "id": "8GdgYInINNLY"
      },
      "source": [
        "xgb = XGBRegressor()  ## Final for the papers\r\n",
        "xgb = XGBRegressor(\r\n",
        "\r\n",
        "                random_state= 88,\r\n",
        "\r\n",
        "               num_leaves = 500,\r\n",
        "            \r\n",
        "               max_bin = 1200,\r\n",
        "                min_data_in_leaf = 5,\r\n",
        "\r\n",
        "               num_boost_round = 1000,\r\n",
        "               \r\n",
        "                num_iterations = 2000,\r\n",
        "               n_jobs = 1,\r\n",
        "\r\n",
        "               subsample = 0.8,\r\n",
        "               )\r\n",
        "\r\n",
        "\r\n",
        "# Create the parameters grid for adaboost:params_ada\r\n",
        "#params_lgbm = {'n_estimators':[500, 1000, 10000],'learning_rate':[0.03,0.05], 'min_child_samples':[0.01,.06,0.08], 'subsample':[0.6,0.70,1]}\r\n",
        "\r\n",
        "param_grid = {\r\n",
        "        'max_depth': [5, 10, 15,20,25],\r\n",
        "        'learning_rate': [0.001, 0.03, 0.05, 0.3],\r\n",
        "        'subsample': [ 0.6, 0.7, 0.8, 0.9, 1.0],\r\n",
        "        'colsample_bytree': [ 0.6, 0.7, 0.8, 0.9, 1.0],\r\n",
        "        'colsample_bylevel': [0.6, 0.7, 0.8, 0.9, 1.0],\r\n",
        "        'min_child_weight': [0.01, 0.5, 1.0, 3.0],\r\n",
        "        'gamma': [0 ],\r\n",
        "        'tree_method' : ['auto'],\r\n",
        "        'grow_policy':['depthwise','lossguide','hist']\r\n",
        ",        'n_estimators': [1000, 5000,10000],\r\n",
        "         'reg_alpha':[0 ,0.0001,0.01,0.1], \r\n",
        "         'reg_lambda':[0 ,0.001,0.01,0.10, 1.0],\r\n",
        "         'normalize_type' :['tree','forest'],\r\n",
        "         'sample_type'   :['uniform','weighted'] ,\r\n",
        "        'boosting_type' : ['dart','gblinear','gbtree']}              \r\n",
        "    \r\n",
        "# Instantiate a 10-fold CV grid search object:grid_ada\r\n",
        "grid_ada_xgb = RandomizedSearchCV(estimator=xgb,\r\n",
        "                          param_distributions = param_grid,    \r\n",
        "                         cv=tscv,random_state= 80,               #9898\r\n",
        "                         scoring=\"neg_mean_squared_error\",\r\n",
        "                         verbose=True,\r\n",
        "                         n_jobs=-1)\r\n",
        "#grid_ada= GridSearchCV(estimator=xgb,\r\n",
        "                       #  param_grid = param_grid,    \r\n",
        "                        # cv=tscv,random_state= 89,\r\n",
        "                        # scoring=\"neg_mean_squared_error\",\r\n",
        "                         #verbose=True,\r\n",
        "                         #n_jobs=-1)\r\n",
        "# Fit the combined data to grid_ada \r\n",
        "grid_ada_xgb.fit(X_train, y_train,eval_set=[(X_test1, y_test1)],\r\n",
        "        eval_metric='rmse',\r\n",
        "        early_stopping_rounds= 5);\r\n",
        "# Get the best parameters of the grid search\r\n",
        "grid_ada_xgb.best_params_"
      ],
      "execution_count": null,
      "outputs": []
    },
    {
      "cell_type": "code",
      "metadata": {
        "colab": {
          "base_uri": "https://localhost:8080/"
        },
        "id": "nE9OZBKNrXkj",
        "outputId": "52b51de3-9594-4708-b60c-c7d923fc8970"
      },
      "source": [
        "model = XGBRegressor(\r\n",
        "               boosting_type = 'dart',\r\n",
        "\r\n",
        "                random_state= 88,\r\n",
        "                  colsample_bylevel = 0.9,\r\n",
        "                  colsample_bytree= 0.9,\r\n",
        "                  gamma = 0,\r\n",
        "                  grow_policy= 'depthwise',\r\n",
        "                  learning_rate = 0.3,\r\n",
        "                  max_depth = 25,\r\n",
        "                  min_child_weight =0.01,\r\n",
        "                   n_estimators =1000,\r\n",
        "                  normalize_type = 'forest',\r\n",
        "                   reg_alpha = 0.01,\r\n",
        "                  reg_lambda = 0.01,\r\n",
        "                  sample_type = 'weighted',\r\n",
        "                  subsample = 0.6,\r\n",
        "                  tree_method = 'auto', \r\n",
        "                  num_leaves = 500,              \r\n",
        "                   max_bin = 1200,\r\n",
        "                    min_data_in_leaf = 5,\r\n",
        "                    num_boost_round = 1000,               \r\n",
        "                num_iterations = 2000,\r\n",
        "               n_jobs = 1,\r\n",
        "\r\n",
        "               )\r\n",
        "model.fit(X_train, y_train,eval_set=[(X_test1, y_test1)],\r\n",
        "        eval_metric='rmse',\r\n",
        "        early_stopping_rounds= 5);"
      ],
      "execution_count": null,
      "outputs": [
        {
          "output_type": "stream",
          "text": [
            "[15:35:25] WARNING: /workspace/src/objective/regression_obj.cu:152: reg:linear is now deprecated in favor of reg:squarederror.\n",
            "[0]\tvalidation_0-rmse:5.85444\n",
            "Will train until validation_0-rmse hasn't improved in 5 rounds.\n",
            "[1]\tvalidation_0-rmse:5.77615\n",
            "[2]\tvalidation_0-rmse:5.76904\n",
            "[3]\tvalidation_0-rmse:5.83509\n",
            "[4]\tvalidation_0-rmse:5.83844\n",
            "[5]\tvalidation_0-rmse:5.84163\n",
            "[6]\tvalidation_0-rmse:5.82125\n",
            "[7]\tvalidation_0-rmse:5.82795\n",
            "Stopping. Best iteration:\n",
            "[2]\tvalidation_0-rmse:5.76904\n",
            "\n"
          ],
          "name": "stdout"
        }
      ]
    },
    {
      "cell_type": "code",
      "metadata": {
        "colab": {
          "base_uri": "https://localhost:8080/"
        },
        "id": "RpGVVw9X0Vtx",
        "outputId": "52727ea4-6079-403a-c1cc-8cd2c9085d79"
      },
      "source": [
        "import math\r\n",
        "grid_ada_xgb.predict(X_test1)\r\n",
        "# Evaluate and visualize the fit\r\n",
        "print(\"Mean Squared Error: %.6f\"\r\n",
        "%  math.sqrt(np.mean((grid_ada_xgb.predict(X_test1) - y_test1) ** 2)))\r\n",
        "print('Variance Score: %.6f' % grid_ada_xgb.score(X_test1, y_test1))"
      ],
      "execution_count": null,
      "outputs": [
        {
          "output_type": "stream",
          "text": [
            "Mean Squared Error: 6.139034\n",
            "Variance Score: -37.687738\n"
          ],
          "name": "stdout"
        }
      ]
    },
    {
      "cell_type": "code",
      "metadata": {
        "colab": {
          "base_uri": "https://localhost:8080/"
        },
        "id": "f7gFPUnQ0Vjk",
        "outputId": "7cc26469-0306-48a7-fc89-1adc9f75e91d"
      },
      "source": [
        "from sklearn.metrics import mean_squared_error\r\n",
        "from math import sqrt\r\n",
        "pred = grid_ada_xgb.predict(X_test1)\r\n",
        "rmse = sqrt(mean_squared_error(y_test1, pred))\r\n",
        "print(rmse)"
      ],
      "execution_count": null,
      "outputs": [
        {
          "output_type": "stream",
          "text": [
            "6.139033975088233\n"
          ],
          "name": "stdout"
        }
      ]
    },
    {
      "cell_type": "code",
      "metadata": {
        "colab": {
          "base_uri": "https://localhost:8080/"
        },
        "id": "YQqpbFh3eCLj",
        "outputId": "425c0702-9e1e-4fbb-afa8-185c3e58bd78"
      },
      "source": [
        "from math import *\r\n",
        "#test =df_processed.tail(11)\r\n",
        "#X_test1 = test.loc[: , 'gdpm_lag1' : 'gdpm4']\r\n",
        "#y_test1 = test.loc[: ,'gdpm']\r\n",
        "pred = grid_ada_xgb.predict(X_test1)\r\n",
        "rmse = sqrt(mean_squared_error(y_test1, pred))\r\n",
        "print(rmse)"
      ],
      "execution_count": null,
      "outputs": [
        {
          "output_type": "stream",
          "text": [
            "6.139033975088233\n"
          ],
          "name": "stdout"
        }
      ]
    },
    {
      "cell_type": "code",
      "metadata": {
        "id": "QoXZoKF4mQaw"
      },
      "source": [
        "pred_gdp = pd.DataFrame(pred, columns=['Predicted_gdp'])\r\n",
        "pred_gdp.to_csv('preGDP.csv',index=False)\r\n",
        "ActualGDP = df.tail(24).reset_index(drop=False)\r\n",
        "actualGDP = ActualGDP[['date','GDP']]\r\n",
        "pred_gdp = pd.DataFrame(pred, columns=['Predicted_gdp'])\r\n",
        "forecast = pd.concat([actualGDP, pred_gdp],ignore_index= False, sort=False)\r\n",
        "forecast.to_csv('forecas_step-3-XGBOOST.csv')\r\n"
      ],
      "execution_count": null,
      "outputs": []
    },
    {
      "cell_type": "code",
      "metadata": {
        "id": "yDD8cHxbIbp0",
        "colab": {
          "base_uri": "https://localhost:8080/"
        },
        "outputId": "0fe1cba1-a027-4d1c-850c-006e86a71da6"
      },
      "source": [
        "from sklearn import metrics\r\n",
        "def timeseries_evaluation_metrics_func(y_test, y_pred):\r\n",
        "    \r\n",
        "    def mean_absolute_percentage_error(y_test, y_pred): \r\n",
        "        y_test, y_pred = np.array(y_test), np.array(y_pred)\r\n",
        "        return np.mean(np.abs((y_test - y_pred) / y_test)) * 100\r\n",
        "    print('Evaluation metric results:-')\r\n",
        "    print(f'MSE is : {metrics.mean_squared_error(y_test, y_pred)}')\r\n",
        "    print(f'MAE is : {metrics.mean_absolute_error(y_test, y_pred)}')\r\n",
        "    print(f'RMSE is : {np.sqrt(metrics.mean_squared_error(y_test, y_pred))}')\r\n",
        "    print(f'MAPE is : {mean_absolute_percentage_error(y_test, y_pred)}')\r\n",
        "    print(f'R2 is : {metrics.r2_score(y_test, y_pred)}',end='\\n\\n')\r\n",
        "\r\n",
        "timeseries_evaluation_metrics_func(y_test1,pred)    "
      ],
      "execution_count": null,
      "outputs": [
        {
          "output_type": "stream",
          "text": [
            "Evaluation metric results:-\n",
            "MSE is : 0.00039361790802648844\n",
            "MAE is : 0.006437126241477328\n",
            "RMSE is : 0.019839806148914067\n",
            "MAPE is : 4.6506200233687265\n",
            "R2 is : 0.9941736723578897\n",
            "\n"
          ],
          "name": "stdout"
        }
      ]
    },
    {
      "cell_type": "code",
      "metadata": {
        "id": "SmR_YR8B1-S4"
      },
      "source": [
        ""
      ],
      "execution_count": null,
      "outputs": []
    },
    {
      "cell_type": "markdown",
      "metadata": {
        "id": "EY90lD17X4F6"
      },
      "source": [
        "# Random_Forest"
      ]
    },
    {
      "cell_type": "code",
      "metadata": {
        "colab": {
          "base_uri": "https://localhost:8080/"
        },
        "id": "6X9dXkcKX7xO",
        "outputId": "1beefb02-f7af-4af6-a410-530974dff31e"
      },
      "source": [
        "from sklearn.preprocessing import RobustScaler\r\n",
        "from sklearn.metrics import mean_squared_error, r2_score\r\n",
        "rforest = RandomForestRegressor()\r\n",
        "\r\n",
        "param_grid ={'max_depth': [20, 25, 30],\r\n",
        "             'max_features': ['auto','sqrt','log2'],\r\n",
        "             'min_samples_split':[2,3,4],\r\n",
        "             'min_samples_leaf':[1, 3, 5],\r\n",
        "             'n_estimators': [500, 750, 1000, 1250, 1500]}\r\n",
        "\r\n",
        "\r\n",
        "\r\n",
        "grid_ada_rf= RandomizedSearchCV(estimator=rforest,\r\n",
        "                          param_distributions = param_grid,    \r\n",
        "                         cv=tscv,random_state= 22,\r\n",
        "                         scoring=\"neg_mean_squared_error\",\r\n",
        "                         verbose=True,\r\n",
        "                         n_jobs=-1)\r\n",
        "\r\n",
        "grid_ada_rf.fit(X_train, y_train,\r\n",
        "      \r\n",
        "       );\r\n",
        "# Get the best parameters of the grid search\r\n",
        "grid_ada_rf.best_params_"
      ],
      "execution_count": null,
      "outputs": [
        {
          "output_type": "stream",
          "text": [
            "Fitting 5 folds for each of 10 candidates, totalling 50 fits\n"
          ],
          "name": "stdout"
        },
        {
          "output_type": "execute_result",
          "data": {
            "text/plain": [
              "{'max_depth': 25,\n",
              " 'max_features': 'log2',\n",
              " 'min_samples_leaf': 1,\n",
              " 'min_samples_split': 4,\n",
              " 'n_estimators': 750}"
            ]
          },
          "metadata": {
            "tags": []
          },
          "execution_count": 40
        }
      ]
    },
    {
      "cell_type": "code",
      "metadata": {
        "colab": {
          "base_uri": "https://localhost:8080/"
        },
        "id": "ILi7cWm-Y6z3",
        "outputId": "31f41a4c-8a74-4763-f64d-970565263f27"
      },
      "source": [
        "from math import *\r\n",
        "#test =df_processed.tail(11)\r\n",
        "#X_test1 = test.loc[: , 'gdpm_lag1' : 'gdpm4']\r\n",
        "#y_test1 = test.loc[: ,'gdpm']\r\n",
        "pred = grid_ada_rf.predict(X_test1)\r\n",
        "rmse = sqrt(mean_squared_error(y_test1, pred))\r\n",
        "print(rmse)"
      ],
      "execution_count": null,
      "outputs": [
        {
          "output_type": "stream",
          "text": [
            "6.0496425030271475\n"
          ],
          "name": "stdout"
        }
      ]
    },
    {
      "cell_type": "code",
      "metadata": {
        "id": "wja85g_EY1jP"
      },
      "source": [
        "pred_gdp = pd.DataFrame(pred, columns=['Predicted_gdp'])\r\n",
        "pred_gdp.to_csv('preGDP.csv',index=False)\r\n",
        "ActualGDP = df.tail(24).reset_index(drop=False)\r\n",
        "actualGDP = ActualGDP[['date','GDP']]\r\n",
        "pred_gdp = pd.DataFrame(pred, columns=['Predicted_gdp'])\r\n",
        "forecast = pd.concat([actualGDP, pred_gdp],ignore_index= False, sort=False)\r\n",
        "forecast.to_csv('forecas_step-6_rf.csv')"
      ],
      "execution_count": null,
      "outputs": []
    },
    {
      "cell_type": "code",
      "metadata": {
        "colab": {
          "base_uri": "https://localhost:8080/"
        },
        "id": "fUJOa_fVY92t",
        "outputId": "9a6ff8d8-7c34-4915-e00a-e56efb509566"
      },
      "source": [
        "from sklearn import metrics\r\n",
        "def timeseries_evaluation_metrics_func(y_test, y_pred):\r\n",
        "    \r\n",
        "    def mean_absolute_percentage_error(y_test, y_pred): \r\n",
        "        y_test, y_pred = np.array(y_test), np.array(y_pred)\r\n",
        "        return np.mean(np.abs((y_test - y_pred) / y_test)) * 100\r\n",
        "    print('Evaluation metric results:-')\r\n",
        "    print(f'MSE is : {metrics.mean_squared_error(y_test, y_pred)}')\r\n",
        "    print(f'MAE is : {metrics.mean_absolute_error(y_test, y_pred)}')\r\n",
        "    print(f'RMSE is : {np.sqrt(metrics.mean_squared_error(y_test, y_pred))}')\r\n",
        "    print(f'MAPE is : {mean_absolute_percentage_error(y_test, y_pred)}')\r\n",
        "    print(f'R2 is : {metrics.r2_score(y_test, y_pred)}',end='\\n\\n')\r\n",
        "    \r\n",
        "timeseries_evaluation_metrics_func(y_test1,pred)    "
      ],
      "execution_count": null,
      "outputs": [
        {
          "output_type": "stream",
          "text": [
            "Evaluation metric results:-\n",
            "MSE is : 0.006743485379785086\n",
            "MAE is : 0.06340420895026316\n",
            "RMSE is : 0.08211872733904907\n",
            "MAPE is : 90.06994015280276\n",
            "R2 is : 0.9001830087726483\n",
            "\n"
          ],
          "name": "stdout"
        }
      ]
    },
    {
      "cell_type": "markdown",
      "metadata": {
        "id": "ZBowDY1GZGw2"
      },
      "source": [
        "# GBM"
      ]
    },
    {
      "cell_type": "code",
      "metadata": {
        "colab": {
          "base_uri": "https://localhost:8080/"
        },
        "id": "Pp_gHOOhZI6O",
        "outputId": "c3facf45-b9a1-437c-a376-40e5fbdd0633"
      },
      "source": [
        "gbm = GradientBoostingRegressor()\r\n",
        "\r\n",
        "gbm_param_grid={'n_estimators':[300, 400, 500, 600],\r\n",
        "                'learning_rate':[0.03,0.05, 0.1, 0.30],\r\n",
        "                'max_depth':[1, 2, 3,5],\r\n",
        "                'min_samples_leaf':[1, 2, 3, 4]} \r\n",
        "\r\n",
        "grid_ada_gbm = RandomizedSearchCV(estimator=gbm,\r\n",
        "                          param_distributions = param_grid,    \r\n",
        "                         cv=tscv,random_state= 22,\r\n",
        "                         scoring=\"neg_mean_squared_error\",\r\n",
        "                         verbose=True,\r\n",
        "                         n_jobs=-1)\r\n",
        "\r\n",
        "grid_ada_gbm.fit(X_train, y_train    \r\n",
        "       );\r\n",
        "# Get the best parameters of the grid search\r\n",
        "grid_ada_gbm.best_params_"
      ],
      "execution_count": null,
      "outputs": [
        {
          "output_type": "stream",
          "text": [
            "Fitting 5 folds for each of 10 candidates, totalling 50 fits\n"
          ],
          "name": "stdout"
        }
      ]
    },
    {
      "cell_type": "code",
      "metadata": {
        "colab": {
          "base_uri": "https://localhost:8080/"
        },
        "id": "C0c96ZtYZwd0",
        "outputId": "74f1fef8-c8c0-4fc6-ab32-4773fab91dc4"
      },
      "source": [
        "from math import *\r\n",
        "#test =df_processed.tail(11)\r\n",
        "#X_test1 = test.loc[: , 'gdpm_lag1' : 'gdpm4']\r\n",
        "#y_test1 = test.loc[: ,'gdpm']\r\n",
        "pred = grid_ada_gbm.predict(X_test1)\r\n",
        "rmse = sqrt(mean_squared_error(y_test1, pred))\r\n",
        "print(rmse)"
      ],
      "execution_count": null,
      "outputs": [
        {
          "output_type": "stream",
          "text": [
            "0.010971511194418321\n"
          ],
          "name": "stdout"
        }
      ]
    },
    {
      "cell_type": "code",
      "metadata": {
        "id": "zZzTIDj1Zyer"
      },
      "source": [
        "pred_gdp = pd.DataFrame(pred, columns=['Predicted_gdp'])\r\n",
        "pred_gdp.to_csv('preGDP.csv',index=False)\r\n",
        "ActualGDP = df.tail(24).reset_index(drop=False)\r\n",
        "actualGDP = ActualGDP[['date','GDP']]\r\n",
        "pred_gdp = pd.DataFrame(pred, columns=['Predicted_gdp'])\r\n",
        "forecast = pd.concat([actualGDP, pred_gdp],ignore_index= False, sort=False)\r\n",
        "forecast.to_csv('forecas_step-3_gbm.csv')"
      ],
      "execution_count": null,
      "outputs": []
    },
    {
      "cell_type": "code",
      "metadata": {
        "colab": {
          "base_uri": "https://localhost:8080/"
        },
        "id": "rxXU-PsqZ0TB",
        "outputId": "87b0d2de-0036-497f-99a1-b2ed63dadbbb"
      },
      "source": [
        "from sklearn import metrics\r\n",
        "def timeseries_evaluation_metrics_func(y_test, y_pred):\r\n",
        "    \r\n",
        "    def mean_absolute_percentage_error(y_test, y_pred): \r\n",
        "        y_test, y_pred = np.array(y_test), np.array(y_pred)\r\n",
        "        return np.mean(np.abs((y_test - y_pred) / y_test)) * 100\r\n",
        "    print('Evaluation metric results:-')\r\n",
        "    print(f'MSE is : {metrics.mean_squared_error(y_test, y_pred)}')\r\n",
        "    print(f'MAE is : {metrics.mean_absolute_error(y_test, y_pred)}')\r\n",
        "    print(f'RMSE is : {np.sqrt(metrics.mean_squared_error(y_test, y_pred))}')\r\n",
        "    print(f'MAPE is : {mean_absolute_percentage_error(y_test, y_pred)}')\r\n",
        "    print(f'R2 is : {metrics.r2_score(y_test, y_pred)}',end='\\n\\n')\r\n",
        "    \r\n",
        "timeseries_evaluation_metrics_func(y_test1,pred)  "
      ],
      "execution_count": null,
      "outputs": [
        {
          "output_type": "stream",
          "text": [
            "Evaluation metric results:-\n",
            "MSE is : 0.00012037405788924655\n",
            "MAE is : 0.0022395503451577326\n",
            "RMSE is : 0.010971511194418321\n",
            "MAPE is : 1.0907009045677007\n",
            "R2 is : 0.9982182246118083\n",
            "\n"
          ],
          "name": "stdout"
        }
      ]
    },
    {
      "cell_type": "markdown",
      "metadata": {
        "id": "zGPiz1rr7D83"
      },
      "source": [
        "# Stacking"
      ]
    },
    {
      "cell_type": "code",
      "metadata": {
        "id": "gPAsR1CNUL4p"
      },
      "source": [
        "from mlxtend.regressor import StackingCVRegressor\r\n",
        "stack = StackingCVRegressor(regressors=(grid_ada_lgbm, grid_ada_xgb),\r\n",
        "                                meta_regressor= grid_ada_xgb, shuffle = False,\r\n",
        "                                cv =tscv,\r\n",
        "                                use_features_in_secondary=True)\r\n",
        "%time stack.fit(X_train,y_train)\r\n"
      ],
      "execution_count": null,
      "outputs": []
    },
    {
      "cell_type": "code",
      "metadata": {
        "id": "UqV-U8k99ZcY",
        "colab": {
          "base_uri": "https://localhost:8080/"
        },
        "outputId": "bae1c474-af70-4f33-9ce3-7aedf7b3ac5b"
      },
      "source": [
        "from math import *\r\n",
        "#test =df_processed.tail(11)\r\n",
        "#X_test1 = test.loc[: , 'gdpm_lag1' : 'gdpm4']\r\n",
        "#y_test1 = test.loc[: ,'gdpm']\r\n",
        "pred = stack.predict(X_test1)\r\n",
        "rmse = sqrt(mean_squared_error(y_test1, pred))\r\n",
        "print(rmse)"
      ],
      "execution_count": null,
      "outputs": [
        {
          "output_type": "stream",
          "text": [
            "0.12394211683657025\n"
          ],
          "name": "stdout"
        }
      ]
    },
    {
      "cell_type": "code",
      "metadata": {
        "id": "1GRffuLS9Roq"
      },
      "source": [
        "pred_gdp = pd.DataFrame(pred, columns=['Predicted_gdp'])\r\n",
        "pred_gdp.to_csv('preGDP.csv',index=False)\r\n",
        "ActualGDP = df.tail(24).reset_index(drop=False)\r\n",
        "actualGDP = ActualGDP[['Date','GDP']]\r\n",
        "pred_gdp = pd.DataFrame(pred, columns=['Predicted_gdp'])\r\n",
        "forecast = pd.concat([actualGDP, pred_gdp],ignore_index= False, sort=False)\r\n",
        "forecast.to_csv('forecas_step-6_stacked.csv')"
      ],
      "execution_count": null,
      "outputs": []
    },
    {
      "cell_type": "code",
      "metadata": {
        "id": "o8fotqCB9VCB",
        "colab": {
          "base_uri": "https://localhost:8080/"
        },
        "outputId": "788eaafa-9fa7-40fe-c4cf-ecc16fa3f1c9"
      },
      "source": [
        "from sklearn import metrics\r\n",
        "def timeseries_evaluation_metrics_func(y_test, y_pred):\r\n",
        "    \r\n",
        "    def mean_absolute_percentage_error(y_test, y_pred): \r\n",
        "        y_test, y_pred = np.array(y_test), np.array(y_pred)\r\n",
        "        return np.mean(np.abs((y_test - y_pred) / y_test)) * 100\r\n",
        "    print('Evaluation metric results:-')\r\n",
        "    print(f'MSE is : {metrics.mean_squared_error(y_test, y_pred)}')\r\n",
        "    print(f'MAE is : {metrics.mean_absolute_error(y_test, y_pred)}')\r\n",
        "    print(f'RMSE is : {np.sqrt(metrics.mean_squared_error(y_test, y_pred))}')\r\n",
        "    print(f'MAPE is : {mean_absolute_percentage_error(y_test, y_pred)}')\r\n",
        "    print(f'R2 is : {metrics.r2_score(y_test, y_pred)}',end='\\n\\n')\r\n",
        "    \r\n",
        "timeseries_evaluation_metrics_func(y_test1,pred)  "
      ],
      "execution_count": null,
      "outputs": [
        {
          "output_type": "stream",
          "text": [
            "Evaluation metric results:-\n",
            "MSE is : 0.01536164832593003\n",
            "MAE is : 0.0797743537941138\n",
            "RMSE is : 0.12394211683657025\n",
            "MAPE is : 87.37985588995733\n",
            "R2 is : 0.7726170622711594\n",
            "\n"
          ],
          "name": "stdout"
        }
      ]
    },
    {
      "cell_type": "markdown",
      "metadata": {
        "id": "biOfTFhX-QqI"
      },
      "source": [
        "# Blending"
      ]
    },
    {
      "cell_type": "code",
      "metadata": {
        "id": "V18PrNMB-SNe"
      },
      "source": [
        "def blend_predict(X_test1):\r\n",
        "    return ((0.35*grid_ada_lgbm.predict(X_test1)) + (0.25*grid_ada_rf.predict(X_test1)) + \\\r\n",
        "            (0.25*grid_ada_xgb.predict(X_test1)) + (0.15*grid_ada_gbm.predict(X_test1)) + (np.array(X_test1)))"
      ],
      "execution_count": null,
      "outputs": []
    },
    {
      "cell_type": "code",
      "metadata": {
        "id": "SK5AIkde-aRL"
      },
      "source": [
        "test_predict = blend_predict(X_test1)"
      ],
      "execution_count": null,
      "outputs": []
    },
    {
      "cell_type": "code",
      "metadata": {
        "id": "dNfORvSMe2ZJ"
      },
      "source": [
        ""
      ],
      "execution_count": null,
      "outputs": []
    }
  ]
}