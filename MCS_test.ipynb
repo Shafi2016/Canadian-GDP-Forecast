{
  "nbformat": 4,
  "nbformat_minor": 0,
  "metadata": {
    "colab": {
      "name": "mcs_test",
      "provenance": [],
      "collapsed_sections": []
    },
    "kernelspec": {
      "name": "python3",
      "display_name": "Python 3"
    }
  },
  "cells": [
    {
      "cell_type": "code",
      "metadata": {
        "id": "hpLbfjg9NoKk"
      },
      "source": [
        "import numpy as np\r\n",
        "from numpy.random import rand\r\n",
        "from numpy import ix_\r\n",
        "import pandas as pd\r\n",
        "np.random.seed(1337)"
      ],
      "execution_count": null,
      "outputs": []
    },
    {
      "cell_type": "code",
      "metadata": {
        "id": "62VztbuANqYM"
      },
      "source": [
        "def bootstrap_sample(data, B, w):\r\n",
        "    '''\r\n",
        "    Bootstrap the input data\r\n",
        "    data: input numpy data array\r\n",
        "    B: boostrap size\r\n",
        "    w: block length of the boostrap\r\n",
        "    '''\r\n",
        "    t = len(data)\r\n",
        "    p = 1 / w\r\n",
        "    indices = np.zeros((t, B), dtype=int)\r\n",
        "    indices[0, :] = np.ceil(t * rand(1, B))\r\n",
        "    select = np.asfortranarray(rand(B, t).T < p)\r\n",
        "    vals = np.ceil(rand(1, np.sum(np.sum(select))) * t).astype(int)\r\n",
        "    indices_flat = indices.ravel(order=\"F\")\r\n",
        "    indices_flat[select.ravel(order=\"F\")] = vals.ravel()\r\n",
        "    indices = indices_flat.reshape([B, t]).T\r\n",
        "    for i in range(1, t):\r\n",
        "        indices[i, ~select[i, :]] = indices[i - 1, ~select[i, :]] + 1\r\n",
        "    indices[indices > t] = indices[indices > t] - t\r\n",
        "    indices -= 1\r\n",
        "    return data[indices]\r\n",
        "\r\n",
        "\r\n",
        "def compute_dij(losses, bsdata):\r\n",
        "    '''Compute the loss difference'''\r\n",
        "    t, M0 = losses.shape\r\n",
        "    B = bsdata.shape[1]\r\n",
        "    dijbar = np.zeros((M0, M0))\r\n",
        "    for j in range(M0):\r\n",
        "        dijbar[j, :] = np.mean(losses - losses[:, [j]], axis=0)\r\n",
        "\r\n",
        "    dijbarstar = np.zeros((B, M0, M0))\r\n",
        "    for b in range(B):\r\n",
        "        meanworkdata = np.mean(losses[bsdata[:, b], :], axis=0)\r\n",
        "        for j in range(M0):\r\n",
        "            dijbarstar[b, j, :] = meanworkdata - meanworkdata[j]\r\n",
        "\r\n",
        "    vardijbar = np.mean((dijbarstar - np.expand_dims(dijbar, 0)) ** 2, axis=0)\r\n",
        "    vardijbar += np.eye(M0)\r\n",
        "\r\n",
        "    return dijbar, dijbarstar, vardijbar\r\n",
        "\r\n",
        "\r\n",
        "def calculate_PvalR(z, included, zdata0):\r\n",
        "    '''Calculate the p-value of relative algorithm'''\r\n",
        "    empdistTR = np.max(np.max(np.abs(z), 2), 1)\r\n",
        "    zdata = zdata0[ix_(included - 1, included - 1)]\r\n",
        "    TR = np.max(zdata)\r\n",
        "    pval = np.mean(empdistTR > TR)\r\n",
        "    return pval\r\n",
        "\r\n",
        "\r\n",
        "def calculate_PvalSQ(z, included, zdata0):\r\n",
        "    '''Calculate the p-value of sequential algorithm'''\r\n",
        "    empdistTSQ = np.sum(z ** 2, axis=1).sum(axis=1) / 2\r\n",
        "    zdata = zdata0[ix_(included - 1, included - 1)]\r\n",
        "    TSQ = np.sum(zdata ** 2) / 2\r\n",
        "    pval = np.mean(empdistTSQ > TSQ)\r\n",
        "    return pval\r\n",
        "\r\n",
        "\r\n",
        "def iterate(dijbar, dijbarstar, vardijbar, alpha, algorithm=\"R\"):\r\n",
        "    '''Iteratively excluding inferior model'''\r\n",
        "    B, M0, _ = dijbarstar.shape\r\n",
        "    z0 = (dijbarstar - np.expand_dims(dijbar, 0)) / np.sqrt(\r\n",
        "        np.expand_dims(vardijbar, 0)\r\n",
        "    )\r\n",
        "    zdata0 = dijbar / np.sqrt(vardijbar)\r\n",
        "\r\n",
        "    excludedR = np.zeros([M0, 1], dtype=int)\r\n",
        "    pvalsR = np.ones([M0, 1])\r\n",
        "\r\n",
        "    for i in range(M0 - 1):\r\n",
        "        included = np.setdiff1d(np.arange(1, M0 + 1), excludedR)\r\n",
        "        m = len(included)\r\n",
        "        z = z0[ix_(range(B), included - 1, included - 1)]\r\n",
        "\r\n",
        "        if algorithm == \"R\":\r\n",
        "            pvalsR[i] = calculate_PvalR(z, included, zdata0)\r\n",
        "        elif algorithm == \"SQ\":\r\n",
        "            pvalsR[i] = calculate_PvalSQ(z, included, zdata0)\r\n",
        "\r\n",
        "        scale = m / (m - 1)\r\n",
        "        dibar = np.mean(dijbar[ix_(included - 1, included - 1)], 0) * scale\r\n",
        "        dibstar = np.mean(dijbarstar[ix_(range(B), included - 1, included - 1)], 1) * (\r\n",
        "            m / (m - 1)\r\n",
        "        )\r\n",
        "        vardi = np.mean((dibstar - dibar) ** 2, axis=0)\r\n",
        "        t = dibar / np.sqrt(vardi)\r\n",
        "        modeltoremove = np.argmax(t)\r\n",
        "        excludedR[i] = included[modeltoremove]\r\n",
        "\r\n",
        "    maxpval = pvalsR[0]\r\n",
        "    for i in range(1, M0):\r\n",
        "        if pvalsR[i] < maxpval:\r\n",
        "            pvalsR[i] = maxpval\r\n",
        "        else:\r\n",
        "            maxpval = pvalsR[i]\r\n",
        "\r\n",
        "    excludedR[-1] = np.setdiff1d(np.arange(1, M0 + 1), excludedR)\r\n",
        "    pl = np.argmax(pvalsR > alpha)\r\n",
        "    includedR = excludedR[pl:]\r\n",
        "    excludedR = excludedR[:pl]\r\n",
        "    return includedR - 1, excludedR - 1, pvalsR\r\n",
        "\r\n",
        "\r\n",
        "def MCS(losses, alpha, B, w, algorithm):\r\n",
        "    '''Main function of the MCS'''\r\n",
        "    t, M0 = losses.shape\r\n",
        "    bsdata = bootstrap_sample(np.arange(t), B, w)\r\n",
        "    dijbar, dijbarstar, vardijbar = compute_dij(losses, bsdata)\r\n",
        "    includedR, excludedR, pvalsR = iterate(\r\n",
        "        dijbar, dijbarstar, vardijbar, alpha, algorithm=algorithm\r\n",
        "    )\r\n",
        "    return includedR, excludedR, pvalsR"
      ],
      "execution_count": null,
      "outputs": []
    },
    {
      "cell_type": "code",
      "metadata": {
        "id": "82ZBQB6RNqVM"
      },
      "source": [
        "class ModelConfidenceSet(object):\r\n",
        "    def __init__(self, data, alpha, B, w, algorithm=\"SQ\", names=None):\r\n",
        "        \"\"\"\r\n",
        "        Implementation of Econometrica Paper:\r\n",
        "        Hansen, Peter R., Asger Lunde, and James M. Nason. \"The model confidence set.\" Econometrica 79.2 (2011): 453-497.\r\n",
        "\r\n",
        "        Input:\r\n",
        "            data->pandas.DataFrame or numpy.ndarray: input data, columns are the losses of each model \r\n",
        "            alpha->float: confidence level\r\n",
        "            B->int: bootstrap size for computation covariance\r\n",
        "            w->int: block size for bootstrap sampling\r\n",
        "            algorithm->str: SQ or R, SQ is the first t-statistics in Hansen (2011) p.465, and R is the second t-statistics\r\n",
        "            names->list: the name of each model (corresponding to each columns). \r\n",
        "\r\n",
        "        Method:\r\n",
        "            run(self): compute the MCS procedure\r\n",
        "\r\n",
        "        Attributes:\r\n",
        "            included: models that are in the model confidence sets at confidence level of alpha\r\n",
        "            excluded: models that are NOT in the model confidence sets at confidence level of alpha\r\n",
        "            pvalues: the bootstrap p-values of each models\r\n",
        "        \"\"\"\r\n",
        "\r\n",
        "        if isinstance(data, pd.DataFrame):\r\n",
        "            self.data = data.values\r\n",
        "            self.names = data.columns.values if names is None else names\r\n",
        "        elif isinstance(data, np.ndarray):\r\n",
        "            self.data = data\r\n",
        "            self.names = np.arange(data.shape[1]) if names is None else names\r\n",
        "\r\n",
        "        if alpha < 0 or alpha > 1:\r\n",
        "            raise ValueError(\r\n",
        "                f\"alpha must be larger than zero and less than 1, found {alpha}\"\r\n",
        "            )\r\n",
        "        if not isinstance(B, int):\r\n",
        "            try:\r\n",
        "                B = int(B)\r\n",
        "            except Exception as identifier:\r\n",
        "                raise RuntimeError(\r\n",
        "                    f\"Bootstrap size B must be a integer, fail to convert\", identifier\r\n",
        "                )\r\n",
        "        if B < 1:\r\n",
        "            raise ValueError(f\"Bootstrap size B must be larger than 1, found {B}\")\r\n",
        "        if not isinstance(w, int):\r\n",
        "            try:\r\n",
        "                w = int(w)\r\n",
        "            except Exception as identifier:\r\n",
        "                raise RuntimeError(\r\n",
        "                    f\"Bootstrap block size w must be a integer, fail to convert\",\r\n",
        "                    identifier,\r\n",
        "                )\r\n",
        "        if w < 1:\r\n",
        "            raise ValueError(f\"Bootstrap block size w must be larger than 1, found {w}\")\r\n",
        "\r\n",
        "        if algorithm not in [\"R\", \"SQ\"]:\r\n",
        "            raise TypeError(f\"Only R and SQ algorithm supported, found {algorithm}\")\r\n",
        "\r\n",
        "        self.alpha = alpha\r\n",
        "        self.B = B\r\n",
        "        self.w = w\r\n",
        "        self.algorithm = algorithm\r\n",
        "\r\n",
        "    def run(self):\r\n",
        "        included, excluded, pvals = MCS(\r\n",
        "            self.data, self.alpha, self.B, self.w, self.algorithm\r\n",
        "        )\r\n",
        "\r\n",
        "        self.included = self.names[included].ravel().tolist()\r\n",
        "        self.excluded = self.names[excluded].ravel().tolist()\r\n",
        "        self.pvalues = pd.Series(pvals.ravel(), index=self.excluded + self.included)\r\n",
        "        return self"
      ],
      "execution_count": null,
      "outputs": []
    },
    {
      "cell_type": "code",
      "metadata": {
        "id": "7JCw7S3zPsq-"
      },
      "source": [
        "data = pd.read_csv(\"/content/mc1.csv\")\r\n",
        "#data = pd.read_csv(\"/content/MC6-L.csv\")"
      ],
      "execution_count": null,
      "outputs": []
    },
    {
      "cell_type": "code",
      "metadata": {
        "id": "dJrMMf3GNqMc"
      },
      "source": [
        "data.head(1)"
      ],
      "execution_count": null,
      "outputs": []
    },
    {
      "cell_type": "code",
      "metadata": {
        "id": "nhZ4oaZtNqDg",
        "colab": {
          "base_uri": "https://localhost:8080/"
        },
        "outputId": "c5b4cb28-1fd1-483b-930b-04fb4ce18ab9"
      },
      "source": [
        "mcs = ModelConfidenceSet(data, 0.1,9, 10000).run()"
      ],
      "execution_count": null,
      "outputs": [
        {
          "output_type": "stream",
          "text": [
            "/usr/local/lib/python3.6/dist-packages/ipykernel_launcher.py:89: RuntimeWarning: divide by zero encountered in true_divide\n"
          ],
          "name": "stderr"
        }
      ]
    },
    {
      "cell_type": "code",
      "metadata": {
        "id": "E8gIlZCeOhma"
      },
      "source": [
        "mcs.pvalues"
      ],
      "execution_count": null,
      "outputs": []
    },
    {
      "cell_type": "code",
      "metadata": {
        "colab": {
          "base_uri": "https://localhost:8080/"
        },
        "id": "Ap_H86npc0Z2",
        "outputId": "26392061-a6d7-4c39-ac2f-b85ceb937773"
      },
      "source": [
        "mcs.included"
      ],
      "execution_count": null,
      "outputs": [
        {
          "output_type": "execute_result",
          "data": {
            "text/plain": [
              "['p_lgbm_of']"
            ]
          },
          "metadata": {
            "tags": []
          },
          "execution_count": 37
        }
      ]
    },
    {
      "cell_type": "code",
      "metadata": {
        "id": "J246nzxQoq34",
        "colab": {
          "base_uri": "https://localhost:8080/"
        },
        "outputId": "d862858d-10ac-4e5f-d0f1-0a2869365f26"
      },
      "source": [
        "!pip install arch"
      ],
      "execution_count": null,
      "outputs": [
        {
          "output_type": "stream",
          "text": [
            "Collecting arch\n",
            "\u001b[?25l  Downloading https://files.pythonhosted.org/packages/7f/5c/ef80e96f2cdc6c2d293b7e4688888a4428963c966fbb0c749c9078e68bb6/arch-4.15-cp36-cp36m-manylinux1_x86_64.whl (790kB)\n",
            "\u001b[K     |████████████████████████████████| 798kB 5.4MB/s \n",
            "\u001b[?25hRequirement already satisfied: numpy>=1.14 in /usr/local/lib/python3.6/dist-packages (from arch) (1.19.5)\n",
            "Requirement already satisfied: statsmodels>=0.9 in /usr/local/lib/python3.6/dist-packages (from arch) (0.10.2)\n",
            "Requirement already satisfied: cython>=0.29.14 in /usr/local/lib/python3.6/dist-packages (from arch) (0.29.21)\n",
            "Requirement already satisfied: pandas>=0.23 in /usr/local/lib/python3.6/dist-packages (from arch) (1.1.5)\n",
            "Collecting property-cached>=1.6.3\n",
            "  Downloading https://files.pythonhosted.org/packages/5c/6c/94d8e520b20a2502e508e1c558f338061cf409cbee78fd6a3a5c6ae812bd/property_cached-1.6.4-py2.py3-none-any.whl\n",
            "Requirement already satisfied: scipy>=1.0.1 in /usr/local/lib/python3.6/dist-packages (from arch) (1.4.1)\n",
            "Requirement already satisfied: patsy>=0.4.0 in /usr/local/lib/python3.6/dist-packages (from statsmodels>=0.9->arch) (0.5.1)\n",
            "Requirement already satisfied: pytz>=2017.2 in /usr/local/lib/python3.6/dist-packages (from pandas>=0.23->arch) (2018.9)\n",
            "Requirement already satisfied: python-dateutil>=2.7.3 in /usr/local/lib/python3.6/dist-packages (from pandas>=0.23->arch) (2.8.1)\n",
            "Requirement already satisfied: six in /usr/local/lib/python3.6/dist-packages (from patsy>=0.4.0->statsmodels>=0.9->arch) (1.15.0)\n",
            "Installing collected packages: property-cached, arch\n",
            "Successfully installed arch-4.15 property-cached-1.6.4\n"
          ],
          "name": "stdout"
        }
      ]
    },
    {
      "cell_type": "code",
      "metadata": {
        "colab": {
          "base_uri": "https://localhost:8080/"
        },
        "id": "q9PTqScfou3J",
        "outputId": "27368763-6fd8-45fe-f0c6-668ca68f14d6"
      },
      "source": [
        "from arch.bootstrap import MCS\r\n",
        "\r\n",
        "# Limit the size of the set\r\n",
        "\r\n",
        "mcs = MCS(data, size=0.10)\r\n",
        "mcs.compute()\r\n",
        "print('MCS P-values')\r\n",
        "print(mcs.pvalues)\r\n",
        "print('Included')\r\n",
        "included = mcs.included\r\n",
        "print([model.split('.')[0] for model in included])\r\n",
        "print('Excluded')\r\n",
        "excluded = mcs.excluded\r\n",
        "print([model.split('.')[0] for model in excluded])"
      ],
      "execution_count": null,
      "outputs": [
        {
          "output_type": "stream",
          "text": [
            "/usr/local/lib/python3.6/dist-packages/statsmodels/tools/_testing.py:19: FutureWarning: pandas.util.testing is deprecated. Use the functions in the public API at pandas.testing instead.\n",
            "  import pandas.util.testing as tm\n"
          ],
          "name": "stderr"
        },
        {
          "output_type": "stream",
          "text": [
            "MCS P-values\n",
            "              Pvalue\n",
            "Model name          \n",
            "lgbm_a         0.001\n",
            "Rf_gt_a        0.019\n",
            "AR             0.019\n",
            "Rf_gt_pcd      0.019\n",
            "xgb_off        0.021\n",
            "lgbm_g_o       0.023\n",
            "rf_g_o         0.023\n",
            "Rf_of          0.036\n",
            "xgb_gt_pdc     0.139\n",
            "xgb_gt_a       0.160\n",
            "xgb_g_o        0.182\n",
            "lgbm_gt_pdc    0.389\n",
            "P_gbm_of       0.389\n",
            "gbm_g_o        0.389\n",
            "P_gbm_gt_pcd   0.389\n",
            "P_gbm_gt_a     0.552\n",
            "p_lgbm_of      1.000\n",
            "Included\n",
            "['P_gbm_gt_a', 'P_gbm_gt_pcd', 'P_gbm_of', 'gbm_g_o', 'lgbm_gt_pdc', 'p_lgbm_of', 'xgb_g_o', 'xgb_gt_a', 'xgb_gt_pdc']\n",
            "Excluded\n",
            "['AR', 'Rf_gt_a', 'Rf_gt_pcd', 'Rf_of', 'lgbm_a', 'lgbm_g_o', 'rf_g_o', 'xgb_off']\n"
          ],
          "name": "stdout"
        }
      ]
    },
    {
      "cell_type": "code",
      "metadata": {
        "colab": {
          "base_uri": "https://localhost:8080/",
          "height": 266
        },
        "id": "iNZJygHOGfj0",
        "outputId": "f8334241-eb03-459b-aead-323de38bb775"
      },
      "source": [
        "status = pd.DataFrame([data.mean(0), data.mean(0)],\r\n",
        "                      index=['Excluded', 'Included']).T\r\n",
        "status.loc[status.index.isin(included), 'Excluded'] = np.nan\r\n",
        "status.loc[status.index.isin(excluded), 'Included'] = np.nan\r\n",
        "fig = status.plot(style=['o', 's'])"
      ],
      "execution_count": null,
      "outputs": [
        {
          "output_type": "display_data",
          "data": {
            "image/png": "[encoded data removed]",
            "text/plain": [
              "<Figure size 432x288 with 1 Axes>"
            ]
          },
          "metadata": {
            "tags": [],
            "needs_background": "light"
          }
        }
      ]
    }
  ]
}